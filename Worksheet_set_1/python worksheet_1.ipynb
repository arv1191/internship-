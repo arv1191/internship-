{
 "cells": [
  {
   "cell_type": "code",
   "execution_count": null,
   "id": "6e0b0135",
   "metadata": {},
   "outputs": [],
   "source": [
    "# python program to find the factorial of a number.\n"
   ]
  },
  {
   "cell_type": "code",
   "execution_count": null,
   "id": "44cd2c9f",
   "metadata": {},
   "outputs": [],
   "source": [
    "n= input(\"enter a number:\")\n",
    "factorial = 1\n",
    "if int(n)>= 1:\n",
    "    for i in range (1,int(n)+1):\n",
    "        factorial = factorial*i\n",
    "        print(\"factorial of\" ,n, \"is:\" , factorial) "
   ]
  },
  {
   "cell_type": "code",
   "execution_count": null,
   "id": "aa873b3c",
   "metadata": {},
   "outputs": [],
   "source": []
  },
  {
   "cell_type": "code",
   "execution_count": null,
   "id": "c6875e7d",
   "metadata": {},
   "outputs": [],
   "source": []
  },
  {
   "cell_type": "code",
   "execution_count": 2,
   "id": "5e5c4796",
   "metadata": {},
   "outputs": [],
   "source": [
    " #python program to find whether a number is prime or composite."
   ]
  },
  {
   "cell_type": "code",
   "execution_count": null,
   "id": "e78d4310",
   "metadata": {},
   "outputs": [],
   "source": [
    "number = int(input(\"enter any number:\"))\n",
    "if number > 1:\n",
    "    for i in range(2, number):\n",
    "        if (number%i)==0:\n",
    "            print(number,\"is a composite number\")\n",
    "            break\n",
    "        else:\n",
    "            print(number,\"is a prime number \")"
   ]
  },
  {
   "cell_type": "code",
   "execution_count": null,
   "id": "ee5266eb",
   "metadata": {},
   "outputs": [],
   "source": []
  },
  {
   "cell_type": "code",
   "execution_count": 1,
   "id": "69afe1f7",
   "metadata": {},
   "outputs": [],
   "source": [
    " # python program to check whether a given string is palindrome or not\n",
    "    "
   ]
  },
  {
   "cell_type": "code",
   "execution_count": 5,
   "id": "e05af73e",
   "metadata": {},
   "outputs": [
    {
     "name": "stdout",
     "output_type": "stream",
     "text": [
      "madam is : Palindrome\n",
      "string: madam\n",
      "rev: madam\n"
     ]
    }
   ],
   "source": [
    "input = \"madam\"\n",
    "# this will automatically generate reverse\n",
    "rev = \"\"\n",
    "for ch in input:\n",
    "    rev = ch + rev\n",
    "\n",
    "print(input + \" is : \", end=\"\")\n",
    "print(\"Palindrome\") if input == rev else print(\"Not Palindrome\")\n",
    "\n",
    "print(\"string: \" + input)\n",
    "print(\"rev: \" + rev)"
   ]
  },
  {
   "cell_type": "code",
   "execution_count": null,
   "id": "b0036f9b",
   "metadata": {},
   "outputs": [],
   "source": []
  },
  {
   "cell_type": "code",
   "execution_count": null,
   "id": "b0c1ac42",
   "metadata": {},
   "outputs": [],
   "source": []
  },
  {
   "cell_type": "code",
   "execution_count": 6,
   "id": "f9109125",
   "metadata": {},
   "outputs": [],
   "source": [
    "# Python program to get the third side of right-angled triangle from two given sides."
   ]
  },
  {
   "cell_type": "code",
   "execution_count": 8,
   "id": "97234559",
   "metadata": {},
   "outputs": [
    {
     "name": "stdout",
     "output_type": "stream",
     "text": [
      "Hypotenuse = 5.0\n",
      "Adjacent = 4.0\n",
      "Opposite = 3.0\n",
      "answer of third side \n"
     ]
    }
   ],
   "source": [
    "def pythagoras(opposite_side,adjacent_side,hypotenuse):\n",
    "        if opposite_side == str(\"x\"):\n",
    "            return (\"Opposite = \" + str(((hypotenuse**2) - (adjacent_side**2))**0.5))\n",
    "        elif adjacent_side == str(\"x\"):\n",
    "            return (\"Adjacent = \" + str(((hypotenuse**2) - (opposite_side**2))**0.5))\n",
    "        elif hypotenuse == str(\"x\"):\n",
    "            return (\"Hypotenuse = \" + str(((opposite_side**2) + (adjacent_side**2))**0.5))\n",
    "        else:\n",
    "            return \"answer of third side \"\n",
    "    \n",
    "print(pythagoras(3,4,'x'))\n",
    "print(pythagoras(3,'x',5))\n",
    "print(pythagoras('x',4,5))\n",
    "print(pythagoras(3,4,5))"
   ]
  },
  {
   "cell_type": "code",
   "execution_count": null,
   "id": "70bf46ef",
   "metadata": {},
   "outputs": [],
   "source": []
  },
  {
   "cell_type": "code",
   "execution_count": null,
   "id": "afe9e6d3",
   "metadata": {},
   "outputs": [],
   "source": []
  },
  {
   "cell_type": "code",
   "execution_count": 9,
   "id": "0be15975",
   "metadata": {},
   "outputs": [],
   "source": [
    "# python program to print the frequency of each of the characters present in a given string"
   ]
  },
  {
   "cell_type": "code",
   "execution_count": 20,
   "id": "0dfb98f3",
   "metadata": {},
   "outputs": [
    {
     "name": "stdout",
     "output_type": "stream",
     "text": [
      "Given String:  fliprobotechnologies\n",
      "Frequency of each character :\n",
      "  {'n': 1, 'p': 1, 't': 1, 'c': 1, 's': 1, 'r': 1, 'i': 2, 'o': 4, 'g': 1, 'h': 1, 'f': 1, 'b': 1, 'e': 2, 'l': 2}\n"
     ]
    }
   ],
   "source": [
    "strA = \"fliprobotechnologies\"\n",
    "print(\"Given String: \",strA)\n",
    "# Using counter\n",
    "val = {}\n",
    "\n",
    "val={n: strA.count(n) for n in set(strA)}\n",
    "\n",
    "# Result\n",
    "print(\"Frequency of each character :\\n \",val)"
   ]
  },
  {
   "cell_type": "code",
   "execution_count": null,
   "id": "a036c7af",
   "metadata": {},
   "outputs": [],
   "source": []
  }
 ],
 "metadata": {
  "kernelspec": {
   "display_name": "Python 3 (ipykernel)",
   "language": "python",
   "name": "python3"
  },
  "language_info": {
   "codemirror_mode": {
    "name": "ipython",
    "version": 3
   },
   "file_extension": ".py",
   "mimetype": "text/x-python",
   "name": "python",
   "nbconvert_exporter": "python",
   "pygments_lexer": "ipython3",
   "version": "3.9.7"
  }
 },
 "nbformat": 4,
 "nbformat_minor": 5
}
